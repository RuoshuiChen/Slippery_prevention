{
 "cells": [
  {
   "cell_type": "code",
   "execution_count": 4,
   "metadata": {},
   "outputs": [
    {
     "name": "stdout",
     "output_type": "stream",
     "text": [
      "The autoreload extension is already loaded. To reload it, use:\n",
      "  %reload_ext autoreload\n",
      "Using cpu device\n",
      "Logging to ./ppo_tensorboard/run_2\n"
     ]
    },
    {
     "data": {
      "application/vnd.jupyter.widget-view+json": {
       "model_id": "4c23a418d84d4e4b886104c98960e0bb",
       "version_major": 2,
       "version_minor": 0
      },
      "text/plain": [
       "Output()"
      ]
     },
     "metadata": {},
     "output_type": "display_data"
    },
    {
     "name": "stdout",
     "output_type": "stream",
     "text": [
      "---------------------------------\n",
      "| rollout/           |          |\n",
      "|    ep_len_mean     | 3.35     |\n",
      "|    ep_rew_mean     | 13.7     |\n",
      "| time/              |          |\n",
      "|    fps             | 58       |\n",
      "|    iterations      | 1        |\n",
      "|    time_elapsed    | 35       |\n",
      "|    total_timesteps | 2048     |\n",
      "---------------------------------\n"
     ]
    }
   ],
   "source": [
    "%load_ext autoreload\n",
    "%autoreload 2\n",
    "import os\n",
    "import gym\n",
    "\n",
    "from stable_baselines3 import PPO\n",
    "from stable_baselines3 import A2C\n",
    "from stable_baselines3.common.env_util import make_vec_env\n",
    "from stable_baselines3.common.vec_env import VecNormalize, DummyVecEnv\n",
    "\n",
    "# env = DummyVecEnv([lambda: gym.make(\"Watercup-v0\")])\n",
    "env = make_vec_env(\"Watercup-v0\", n_envs=1)\n",
    "env = VecNormalize(env, norm_obs=True, norm_reward=True, clip_obs=10.)\n",
    "\n",
    "model = PPO('MlpPolicy', env, verbose=1, tensorboard_log=\"./ppo_tensorboard/\")\n",
    "\n",
    "timestep = 3*5e5\n",
    "model.learn(total_timesteps=timestep, tb_log_name=\"run\", progress_bar=True)\n",
    "\n",
    "log_dir = \"./trained_policy/\"\n",
    "model.save(log_dir + \"ppo_watercup\")\n",
    "stats_path = os.path.join(log_dir, \"vec_normalize.pkl\")\n",
    "env.save(stats_path)"
   ]
  },
  {
   "cell_type": "code",
   "execution_count": 1,
   "metadata": {},
   "outputs": [
    {
     "name": "stderr",
     "output_type": "stream",
     "text": [
      "objc[17532]: Class GLFWApplicationDelegate is implemented in both /Users/tychen/.mujoco/mujoco210/bin/libglfw.3.dylib (0x1199f0778) and /usr/local/Cellar/glfw/3.3.8/lib/libglfw.3.3.dylib (0x11f555790). One of the two will be used. Which one is undefined.\n",
      "objc[17532]: Class GLFWWindowDelegate is implemented in both /Users/tychen/.mujoco/mujoco210/bin/libglfw.3.dylib (0x1199f0700) and /usr/local/Cellar/glfw/3.3.8/lib/libglfw.3.3.dylib (0x11f5557b8). One of the two will be used. Which one is undefined.\n",
      "objc[17532]: Class GLFWContentView is implemented in both /Users/tychen/.mujoco/mujoco210/bin/libglfw.3.dylib (0x1199f07a0) and /usr/local/Cellar/glfw/3.3.8/lib/libglfw.3.3.dylib (0x11f555808). One of the two will be used. Which one is undefined.\n",
      "objc[17532]: Class GLFWWindow is implemented in both /Users/tychen/.mujoco/mujoco210/bin/libglfw.3.dylib (0x1199f0818) and /usr/local/Cellar/glfw/3.3.8/lib/libglfw.3.3.dylib (0x11f555880). One of the two will be used. Which one is undefined.\n",
      "/opt/anaconda3/envs/mjrl/lib/python3.10/site-packages/stable_baselines3/common/evaluation.py:65: UserWarning: Evaluation environment is not wrapped with a ``Monitor`` wrapper. This may result in reporting modified episode lengths and rewards, if other wrappers happen to modify these. Consider wrapping environment first with ``Monitor`` wrapper.\n",
      "  warnings.warn(\n"
     ]
    },
    {
     "name": "stdout",
     "output_type": "stream",
     "text": [
      "Mean reward = 142.58 +/- 0.00\n"
     ]
    }
   ],
   "source": [
    "# evaluate after training\n",
    "%load_ext autoreload\n",
    "%autoreload 2\n",
    "import os\n",
    "import gym\n",
    "from stable_baselines3.common.evaluation import evaluate_policy\n",
    "from stable_baselines3 import PPO\n",
    "from stable_baselines3.common.env_util import make_vec_env\n",
    "from stable_baselines3.common.vec_env import VecNormalize, DummyVecEnv\n",
    "\n",
    "log_dir = \"./trained_policy/\"\n",
    "stats_path = os.path.join(log_dir, \"vec_normalize.pkl\")\n",
    "env = make_vec_env(\"Watercup-v0\", n_envs=1)\n",
    "env = VecNormalize.load(stats_path, env)\n",
    "env.training = False\n",
    "env.norm_reward = False\n",
    "\n",
    "model = PPO.load(log_dir + \"ppo_watercup\", env=env)\n",
    "\n",
    "mean_reward, std_reward = evaluate_policy(model, model.get_env(), n_eval_episodes=10, render=False)\n",
    "\n",
    "print(f\"Mean reward = {mean_reward:.2f} +/- {std_reward:.2f}\")"
   ]
  },
  {
   "cell_type": "code",
   "execution_count": null,
   "metadata": {},
   "outputs": [],
   "source": [
    "# visualize trained policy\n",
    "%load_ext autoreload\n",
    "%autoreload 2\n",
    "import os\n",
    "import numpy as np\n",
    "import gym\n",
    "from stable_baselines3 import PPO\n",
    "from stable_baselines3.common.env_util import make_vec_env\n",
    "from stable_baselines3.common.vec_env import VecNormalize, DummyVecEnv\n",
    "\n",
    "log_dir = \"./trained_policy/\"\n",
    "stats_path = os.path.join(log_dir, \"vec_normalize.pkl\")\n",
    "env = make_vec_env(\"Watercup-v0\", n_envs=1)\n",
    "env = VecNormalize.load(stats_path, env)\n",
    "env.training = False\n",
    "env.norm_reward = False\n",
    "\n",
    "model = PPO.load(log_dir + \"ppo_watercup\", env=env)\n",
    "\n",
    "t = 0\n",
    "horizon = 1000\n",
    "obs = env.reset()\n",
    "# print(\"initial distance: \", np.linalg.norm(obs[-3:]))\n",
    "rewards = []\n",
    "done = False\n",
    "# action = [0.174, 0.0793, 1.05, 1.22, 0.209, 0.698, 0.81, -0.119, 1.04, 1.29, -0.164, 1.14, 1.29, 0.119, 1.17, 1.23, 0.475, 0.115, 1.2, 1.24, 0.0525, 0, -0.027+0.07, 0, -0.06, 0]\n",
    "while t < horizon and not done:\n",
    "    action, _states = model.predict(obs)\n",
    "    obs, reward, done, info = env.step(action)\n",
    "    rewards.append(reward)\n",
    "    # print(\"info: \", info[\"init_dist\"], info[\"curr_dist1\"], info[\"curr_dist2\"])\n",
    "    # print(\"action: \", info[\"action\"])\n",
    "    # print(\"nstep: \", info[\"nstep\"])\n",
    "    # print(\"not_in_hand: \", done)\n",
    "    # print(\"sensor: \", info[\"sensor\"])\n",
    "    # print(\"in_hand_reward: \", info[\"reward_in_hand\"])\n",
    "    env.render()\n",
    "    t += 1\n",
    "env.close()\n",
    "print(len(rewards))\n",
    "print(sum(rewards))"
   ]
  }
 ],
 "metadata": {
  "kernelspec": {
   "display_name": "Python 3.10.8 ('mjrl')",
   "language": "python",
   "name": "python3"
  },
  "language_info": {
   "codemirror_mode": {
    "name": "ipython",
    "version": 3
   },
   "file_extension": ".py",
   "mimetype": "text/x-python",
   "name": "python",
   "nbconvert_exporter": "python",
   "pygments_lexer": "ipython3",
   "version": "3.10.8"
  },
  "orig_nbformat": 4,
  "vscode": {
   "interpreter": {
    "hash": "a972f68a799f0ffd52b1ac493f4e2eb5b2ca8620545205e1dc27d29d8280ce61"
   }
  }
 },
 "nbformat": 4,
 "nbformat_minor": 2
}
